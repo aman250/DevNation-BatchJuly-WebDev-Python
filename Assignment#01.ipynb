{
 "cells": [
  {
   "cell_type": "code",
   "execution_count": 34,
   "id": "dd38dd36",
   "metadata": {},
   "outputs": [],
   "source": [
    "#Question 1"
   ]
  },
  {
   "cell_type": "code",
   "execution_count": 33,
   "id": "b5fbaaee",
   "metadata": {},
   "outputs": [
    {
     "name": "stdout",
     "output_type": "stream",
     "text": [
      "----------------\n",
      "|              |\n",
      "|              |\n",
      "|              |\n",
      "|              |\n",
      "|              |\n",
      "|              |\n",
      "----------------\n"
     ]
    }
   ],
   "source": [
    "\n",
    "print('----------------')\n",
    "print('|              |')\n",
    "print('|              |')\n",
    "print('|              |')\n",
    "print('|              |')\n",
    "print('|              |')\n",
    "print('|              |')\n",
    "print('----------------')\n"
   ]
  },
  {
   "cell_type": "code",
   "execution_count": null,
   "id": "48951af5",
   "metadata": {},
   "outputs": [],
   "source": [
    "#Question 2A"
   ]
  },
  {
   "cell_type": "code",
   "execution_count": 32,
   "id": "56b183e9",
   "metadata": {},
   "outputs": [
    {
     "name": "stdout",
     "output_type": "stream",
     "text": [
      "[1, 2, 3, 4, 5, 6, 7, 8, 9, 10, 11, 12, 13, 14]\n"
     ]
    }
   ],
   "source": [
    "numbers=list(range(1,15))\n",
    "print(numbers)"
   ]
  },
  {
   "cell_type": "code",
   "execution_count": null,
   "id": "0c413ca6",
   "metadata": {},
   "outputs": [],
   "source": [
    "#Question 2B"
   ]
  },
  {
   "cell_type": "code",
   "execution_count": 35,
   "id": "385ed33b",
   "metadata": {},
   "outputs": [
    {
     "name": "stdout",
     "output_type": "stream",
     "text": [
      "1\n",
      "2\n",
      "3\n",
      "4\n",
      "5\n",
      "6\n",
      "7\n",
      "8\n",
      "9\n",
      "10\n",
      "11\n",
      "12\n",
      "13\n",
      "14\n"
     ]
    }
   ],
   "source": [
    "for i in range(1, 15):\n",
    "    print(i)"
   ]
  },
  {
   "cell_type": "code",
   "execution_count": null,
   "id": "39bca627",
   "metadata": {},
   "outputs": [],
   "source": [
    "#Question 3"
   ]
  },
  {
   "cell_type": "code",
   "execution_count": 42,
   "id": "ce8beb99",
   "metadata": {},
   "outputs": [
    {
     "name": "stdout",
     "output_type": "stream",
     "text": [
      "Enter first Number:10\n",
      "Enter second Number:29\n",
      "The Addition is: 39\n"
     ]
    }
   ],
   "source": [
    "num1=input('Enter first Number:')\n",
    "num2=input('Enter second Number:')\n",
    "addition= int(num1) + int(num2)\n",
    "print(\"The Addition is: \" + str(addition))\n"
   ]
  }
 ],
 "metadata": {
  "kernelspec": {
   "display_name": "Python 3",
   "language": "python",
   "name": "python3"
  },
  "language_info": {
   "codemirror_mode": {
    "name": "ipython",
    "version": 3
   },
   "file_extension": ".py",
   "mimetype": "text/x-python",
   "name": "python",
   "nbconvert_exporter": "python",
   "pygments_lexer": "ipython3",
   "version": "3.8.8"
  }
 },
 "nbformat": 4,
 "nbformat_minor": 5
}
